{
 "cells": [
  {
   "cell_type": "markdown",
   "metadata": {},
   "source": [
    "Importing libraries"
   ]
  },
  {
   "cell_type": "code",
   "execution_count": 131,
   "metadata": {},
   "outputs": [],
   "source": [
    "from mesa import Agent, Model\n",
    "from mesa.time import RandomActivation\n",
    "import matplotlib.pyplot as plt\n",
    "import random\n",
    "random.seed(100)\n",
    "import math\n",
    "\n",
    "from mesa.space import SingleGrid\n",
    "from mesa.space import Grid\n",
    "from numpy import mean, log\n",
    "from mesa.datacollection import DataCollector\n",
    "#import visualization tools\n",
    "from mesa.visualization.modules import CanvasGrid\n",
    "from mesa.visualization.ModularVisualization import ModularServer"
   ]
  },
  {
   "cell_type": "markdown",
   "metadata": {},
   "source": [
    "Agent classes:"
   ]
  },
  {
   "cell_type": "markdown",
   "metadata": {},
   "source": [
    "Cooperator class: \n",
    "can directly transfer or add to community pool. If cooperator directly transacts w/ defector, cooperator turns into Neutral, and can no longer add to community pool or perform direct transactions"
   ]
  },
  {
   "cell_type": "code",
   "execution_count": 213,
   "metadata": {},
   "outputs": [],
   "source": [
    "class Cooperator(Agent):\n",
    "    def __init__(self, unique_id, model):\n",
    "        super().__init__(unique_id, model)\n",
    "        self.wealth = 5\n",
    "        self.neutral = False\n",
    "        self.pos = (0,0)\n",
    "        self.identifier = 'C'\n",
    "\n",
    "#cooperators only move if empty cell\n",
    "    def move(self):\n",
    "        current = self.pos\n",
    "        possible_steps = self.model.grid.get_neighborhood(\n",
    "            self.pos,\n",
    "            moore=True,\n",
    "            include_center=False)\n",
    "        new_position = self.random.choice(possible_steps)\n",
    "        if (self.model.grid.is_cell_empty(new_position)):\n",
    "            self.model.grid.move_agent(self, new_position)\n",
    "        \n",
    "    #create wealth for community\n",
    "    def add_wealth_to_community(self):\n",
    "        self.model.communitypool += 1\n",
    "\n",
    "    def take_from_communitypool(self):\n",
    "        if self.wealth < 3 & self.model.communitypool > 0:\n",
    "            self.model.communitypool -= 1\n",
    "            self.wealth += 1\n",
    "\n",
    "    #direct transfer of wealth btwn cooperator and other\n",
    "    def direct_transfer(self):\n",
    "        neighbors = self.model.grid.get_neighborhood(self.pos,\n",
    "                                                     moore=False, radius=1)\n",
    "        if len(neighbors) > 1:\n",
    "            other = self.random.choice(neighbors)\n",
    "            #if other is defector, give 1/3 money away + turn neutral\n",
    "            if other.identifier == 'D':\n",
    "                self.neutral = True\n",
    "                self.identifier = 'N'\n",
    "                transfer_amt = self.wealth / 3\n",
    "                other.wealth += transfer_amt\n",
    "                self.wealth = 0\n",
    "                #TODO: change colors when neutral\n",
    "            else:\n",
    "                other.wealth += 1\n",
    "                self.wealth -= 1\n",
    "\n",
    "    def step(self):\n",
    "        if self.wealth > 5:\n",
    "            self.direct_transfer()\n",
    "            self.move()\n",
    "        elif self.wealth > 3:\n",
    "            self.add_wealth_to_community()\n"
   ]
  },
  {
   "cell_type": "markdown",
   "metadata": {},
   "source": [
    "Defector Class: defectors can take from the community pool but do not add to it. when defectors interact w/ cooperators, they turn cooperators neutral"
   ]
  },
  {
   "cell_type": "code",
   "execution_count": 133,
   "metadata": {},
   "outputs": [],
   "source": [
    "class Defector(Agent):\n",
    "    def __init__(self, unique_id, model):\n",
    "        super().__init__(unique_id, model)\n",
    "        self.wealth = 5\n",
    "        self.pos = (0,0)\n",
    "        self.identifier = 'D'\n",
    "\n",
    "    def move(self):\n",
    "        current = self.pos\n",
    "        possible_steps = self.model.grid.get_neighborhood(\n",
    "            self.pos,\n",
    "            moore=True,\n",
    "            include_center=False)\n",
    "        new_position = self.random.choice(possible_steps)\n",
    "        if (self.model.grid.is_cell_empty(new_position)):\n",
    "            self.model.grid.move_agent(self, new_position)\n",
    "\n",
    "    #at random time intervals, take from community pool\n",
    "    def take_from_communitypool(self):\n",
    "        if self.model.communitypool > 0:\n",
    "            self.wealth += 1\n",
    "            self.model.communitypool -= 1\n",
    "\n",
    "    def step(self):\n",
    "        self.move()\n",
    "        #30 percent chance that defector will take from\n",
    "        #community pool\n",
    "        x = random.randint(0, 9)\n",
    "        if x % 3 == 0:\n",
    "            self.take_from_communitypool()\n"
   ]
  },
  {
   "cell_type": "markdown",
   "metadata": {},
   "source": [
    "Community class (this is the model)"
   ]
  },
  {
   "cell_type": "code",
   "execution_count": 214,
   "metadata": {},
   "outputs": [],
   "source": [
    "class Community(Model):\n",
    "   # def __init__(self, C, D, width, height):\n",
    "    def __init__(self, N, width, height):\n",
    "        self.num_cooperators = int(N/2)\n",
    "        self.num_defectors = self.num_cooperators - 2\n",
    "        self.num_neutrals = 0\n",
    "        self.grid = SingleGrid(width, height,torus=True)\n",
    "        self.schedule = RandomActivation(self)\n",
    "        self.communitypool = 0\n",
    "        #create defectors\n",
    "        for i in range(self.num_defectors):\n",
    "            b = Defector(i, self)\n",
    "            self.schedule.add(b)\n",
    "           #randomly place defectors\n",
    "            x = self.random.randrange(self.grid.width)\n",
    "            y = self.random.randrange(self.grid.height)\n",
    "            if (self.grid.is_cell_empty([x,y])):\n",
    "                self.grid.place_agent(b,(x,y))\n",
    "                b.pos = (x,y)\n",
    "        #create cooperators\n",
    "        for i in range(self.num_defectors, self.num_cooperators):\n",
    "            a = Cooperator(i, self)\n",
    "            self.schedule.add(a)\n",
    "            #add cooperators to grid\n",
    "            x = self.random.randrange(self.grid.width)\n",
    "            y = self.random.randrange(self.grid.height)\n",
    "            #while cell is full\n",
    "            while (self.grid.is_cell_empty([x,y]) == False):\n",
    "                #recalculate x and y\n",
    "                x = self.random.randrange(self.grid.width)\n",
    "                y = self.random.randrange(self.grid.height)\n",
    "                if self.grid.is_cell_empty([x,y]):\n",
    "                    break\n",
    "            self.grid.position_agent(a,(x,y))\n",
    "            a.pos = (x,y)\n",
    "           \n",
    "    def step(self):\n",
    "        #update numbers of each phenotype\n",
    "        for agent in self.schedule.agents:\n",
    "            if agent.identifier == 'C':\n",
    "                self.num_cooperators += 1\n",
    "            elif agent.identifier == 'D':\n",
    "                self.num_defectors += 1\n",
    "            elif agent.identifier == 'N':\n",
    "                self.num_cooperators -= 1\n",
    "                self.num_neutrals += 1\n",
    "        self.schedule.step()#update numbers of each phenotype\n",
    "        \n",
    "\n"
   ]
  },
  {
   "cell_type": "code",
   "execution_count": 135,
   "metadata": {},
   "outputs": [
    {
     "name": "stdout",
     "output_type": "stream",
     "text": [
      "5\n",
      "5\n",
      "0\n"
     ]
    }
   ],
   "source": [
    "a = Cooperator(1, Community,)\n",
    "print(a.wealth)\n",
    "b = Defector(2,Community)\n",
    "print(b.wealth)\n",
    "model = Community(20,10,10)\n",
    "print(model.communitypool)\n",
    "#TODO: issue is with placing agents"
   ]
  },
  {
   "cell_type": "code",
   "execution_count": 136,
   "metadata": {},
   "outputs": [
    {
     "name": "stdout",
     "output_type": "stream",
     "text": [
      "25\n",
      "23\n",
      "65\n",
      "483\n"
     ]
    }
   ],
   "source": [
    "model = Community(50,10,10)\n",
    "print(model.num_cooperators)\n",
    "print(model.num_defectors)\n",
    "for i in range(20):\n",
    "    model.step()\n",
    "\n",
    "print(model.num_cooperators)\n",
    "print(model.num_defectors)"
   ]
  },
  {
   "cell_type": "markdown",
   "metadata": {},
   "source": [
    "Helper functions for evolving ideal community"
   ]
  },
  {
   "cell_type": "markdown",
   "metadata": {},
   "source": [
    "Individual function"
   ]
  },
  {
   "cell_type": "code",
   "execution_count": 215,
   "metadata": {},
   "outputs": [],
   "source": [
    "def individual():\n",
    "    #Randomly initializing model values:\n",
    "    #size is a random square number\n",
    "    choice = random.randint(10,100)\n",
    "    height = choice\n",
    "    width = choice\n",
    "    size = choice * choice\n",
    "    #C/D is a fixed ratio of that number\n",
    "    C = int(.95 * size)\n",
    "    D = size - C\n",
    "#create model object\n",
    "    model = Community(size, width, height)\n",
    "    #run model for 20 microgenerations\n",
    "    for i in range(20):\n",
    "        model.step()\n",
    "    #capture final results of model, return list\n",
    "    result = []\n",
    "    result.append(model.communitypool)\n",
    "    result.append(model.num_cooperators)\n",
    "    result.append(model.num_defectors)\n",
    "    result.append(model.num_neutrals)\n",
    "    result.append(C)\n",
    "    result.append(D)\n",
    "    result.append(size)\n",
    "    return result\n"
   ]
  },
  {
   "cell_type": "code",
   "execution_count": 216,
   "metadata": {},
   "outputs": [
    {
     "name": "stdout",
     "output_type": "stream",
     "text": [
      "[0, 2778, 57456, 0, 5202, 274, 5476]\n"
     ]
    }
   ],
   "source": [
    "print(individual())\n",
    "#TODO: no direct transactions are occurring"
   ]
  },
  {
   "cell_type": "code",
   "execution_count": 222,
   "metadata": {},
   "outputs": [],
   "source": [
    "#fitness function returns float\n",
    "def fitness(result):\n",
    "    prob_reproduction = .5\n",
    "    #reward high ratio of cooperators\n",
    "    if result[1] > result[2]:\n",
    "        prob_reproduction = .9\n",
    "    #punish high proportion of defectors\n",
    "    elif result[2] > result[1]:\n",
    "        prob_reproduction = 0.2\n",
    "    #reward high ratio of cooperators to neutrals\n",
    "    elif (result[3] / result[1]) < 0.3:\n",
    "        #high probability of reproduction\n",
    "        prob_reproduction = .7\n",
    "    #reward arbitrarily high value for community pool\n",
    "    elif result[0] > 60:\n",
    "        prob_reproduction = .8\n",
    "    return prob_reproduction"
   ]
  },
  {
   "cell_type": "code",
   "execution_count": 230,
   "metadata": {},
   "outputs": [
    {
     "name": "stdout",
     "output_type": "stream",
     "text": [
      "98742\n",
      "[0, 4744, 98742, 0, 8938, 471, 9409]\n",
      "0.2\n"
     ]
    }
   ],
   "source": [
    "result = individual()\n",
    "print(result[2])\n",
    "print(result)\n",
    "print(fitness(result))"
   ]
  },
  {
   "cell_type": "code",
   "execution_count": 219,
   "metadata": {},
   "outputs": [],
   "source": [
    "#mutation function randomly changes some parameter of ind\n",
    "def mutation(individual, prob_mut=.3):\n",
    "    if random.random() < prob_mut:\n",
    "        #perform some mutation on individual\n",
    "        #try: changing defectors\n",
    "        individual[2] = random.random()\n",
    "    return individual\n"
   ]
  },
  {
   "cell_type": "markdown",
   "metadata": {},
   "source": [
    "Evolving model"
   ]
  },
  {
   "cell_type": "code",
   "execution_count": 220,
   "metadata": {},
   "outputs": [
    {
     "name": "stdout",
     "output_type": "stream",
     "text": [
      "[1, 2, 3, 5]\n",
      "[1, 2, 3, 5]\n",
      "[4, 5, 6, 6]\n",
      "[7, 8, 9, 7]\n",
      "[4, 5, 6, 6]\n",
      "0.5\n",
      "0.5\n",
      "[]\n"
     ]
    }
   ],
   "source": [
    "list = [1,2,3,5]\n",
    "list2 = [4,5,6,6]\n",
    "list3 = [7,8,9,7]\n",
    "list4 = []\n",
    "list4.append(list)\n",
    "list4.append(list2)\n",
    "list4.append(list3)\n",
    "print(list4[0])\n",
    "pop_fitness = []\n",
    "for i in range(len(list4)):\n",
    "    print(list4[i])\n",
    "print(list4[1])\n",
    "print(fitness([1,2,3,5]))\n",
    "print(fitness(list4[0]))\n",
    "print(pop_fitness)\n"
   ]
  },
  {
   "cell_type": "code",
   "execution_count": 221,
   "metadata": {},
   "outputs": [
    {
     "name": "stdout",
     "output_type": "stream",
     "text": [
      "[0.2, 0.2, 0.2, 0.2, 0.2, 0.2, 0.2, 0.2, 0.2, 0.2, 0.2, 0.2, 0.2, 0.2, 0.2, 0.2, 0.2, 0.2, 0.2, 0.2, 0.2, 0.2, 0.2, 0.2, 0.2, 0.2, 0.2, 0.2, 0.2, 0.2, 0.2, 0.2, 0.2, 0.2, 0.2, 0.2, 0.2, 0.2, 0.2, 0.2, 0.2, 0.2, 0.2, 0.2, 0.2, 0.2, 0.2, 0.2, 0.2, 0.2, 0.2, 0.2, 0.2, 0.2, 0.2, 0.2, 0.2, 0.2, 0.2, 0.2, 0.2, 0.2, 0.2, 0.2, 0.2, 0.2, 0.2, 0.2, 0.2, 0.2, 0.2, 0.2, 0.2, 0.2, 0.2, 0.2, 0.2, 0.2, 0.2, 0.2, 0.2, 0.2, 0.2, 0.2, 0.2, 0.2, 0.2, 0.2, 0.2, 0.2, 0.2, 0.2, 0.2, 0.2, 0.2, 0.2, 0.2, 0.2, 0.2, 0.2]\n"
     ]
    }
   ],
   "source": [
    "pop_size = 100\n",
    "num_generations = 500\n",
    "\n",
    "#create population of individuals\n",
    "population = []\n",
    "for i in range(pop_size):\n",
    "    population.append(individual())\n",
    "#assign a fitness to each individual\n",
    "pop_fitness = []\n",
    "for i in range(len(population)):\n",
    "    pop_fitness.append(fitness(population[i]))\n",
    "print(pop_fitness)"
   ]
  },
  {
   "cell_type": "code",
   "execution_count": 210,
   "metadata": {},
   "outputs": [
    {
     "ename": "TypeError",
     "evalue": "'float' object is not callable",
     "output_type": "error",
     "traceback": [
      "\u001b[0;31m---------------------------------------------------------------------------\u001b[0m",
      "\u001b[0;31mTypeError\u001b[0m                                 Traceback (most recent call last)",
      "\u001b[0;32m<ipython-input-210-2b7ed24bf003>\u001b[0m in \u001b[0;36m<module>\u001b[0;34m\u001b[0m\n\u001b[1;32m      6\u001b[0m \u001b[0;32mfor\u001b[0m \u001b[0mi\u001b[0m \u001b[0;32min\u001b[0m \u001b[0mrange\u001b[0m\u001b[0;34m(\u001b[0m\u001b[0mpop_size\u001b[0m\u001b[0;34m)\u001b[0m\u001b[0;34m:\u001b[0m\u001b[0;34m\u001b[0m\u001b[0;34m\u001b[0m\u001b[0m\n\u001b[1;32m      7\u001b[0m     \u001b[0mpopulation\u001b[0m\u001b[0;34m.\u001b[0m\u001b[0mappend\u001b[0m\u001b[0;34m(\u001b[0m\u001b[0mindividual\u001b[0m\u001b[0;34m(\u001b[0m\u001b[0;34m)\u001b[0m\u001b[0;34m)\u001b[0m\u001b[0;34m\u001b[0m\u001b[0;34m\u001b[0m\u001b[0m\n\u001b[0;32m----> 8\u001b[0;31m     \u001b[0mpop_fitness\u001b[0m\u001b[0;34m.\u001b[0m\u001b[0mappend\u001b[0m\u001b[0;34m(\u001b[0m\u001b[0mfitness\u001b[0m\u001b[0;34m(\u001b[0m\u001b[0mpopulation\u001b[0m\u001b[0;34m[\u001b[0m\u001b[0mi\u001b[0m\u001b[0;34m]\u001b[0m\u001b[0;34m)\u001b[0m\u001b[0;34m)\u001b[0m\u001b[0;34m\u001b[0m\u001b[0;34m\u001b[0m\u001b[0m\n\u001b[0m",
      "\u001b[0;31mTypeError\u001b[0m: 'float' object is not callable"
     ]
    }
   ],
   "source": [
    "#testing a new approach\n",
    "pop_size = 100\n",
    "num_generations = 500\n",
    "population = []\n",
    "pop_fitness = []\n",
    "for i in range(pop_size):\n",
    "    population.append(individual())\n",
    "    pop_fitness.append(fitness(population[i]))"
   ]
  },
  {
   "cell_type": "code",
   "execution_count": 231,
   "metadata": {},
   "outputs": [
    {
     "ename": "KeyboardInterrupt",
     "evalue": "",
     "output_type": "error",
     "traceback": [
      "\u001b[0;31m---------------------------------------------------------------------------\u001b[0m",
      "\u001b[0;31mKeyboardInterrupt\u001b[0m                         Traceback (most recent call last)",
      "\u001b[0;32m<ipython-input-231-143dc2b0519e>\u001b[0m in \u001b[0;36m<module>\u001b[0;34m\u001b[0m\n\u001b[1;32m     18\u001b[0m     \u001b[0;32mfor\u001b[0m \u001b[0mi\u001b[0m \u001b[0;32min\u001b[0m \u001b[0mrange\u001b[0m\u001b[0;34m(\u001b[0m\u001b[0mpop_size\u001b[0m\u001b[0;34m)\u001b[0m\u001b[0;34m:\u001b[0m\u001b[0;34m\u001b[0m\u001b[0;34m\u001b[0m\u001b[0m\n\u001b[1;32m     19\u001b[0m         \u001b[0;31m#mutation function is taking too long\u001b[0m\u001b[0;34m\u001b[0m\u001b[0;34m\u001b[0m\u001b[0;34m\u001b[0m\u001b[0m\n\u001b[0;32m---> 20\u001b[0;31m         \u001b[0mpopulation\u001b[0m\u001b[0;34m.\u001b[0m\u001b[0mappend\u001b[0m\u001b[0;34m(\u001b[0m\u001b[0mmutation\u001b[0m\u001b[0;34m(\u001b[0m\u001b[0mindividual\u001b[0m\u001b[0;34m(\u001b[0m\u001b[0;34m)\u001b[0m\u001b[0;34m,\u001b[0m\u001b[0mprob_mut\u001b[0m\u001b[0;34m=\u001b[0m\u001b[0;36m.1\u001b[0m\u001b[0;34m)\u001b[0m\u001b[0;34m)\u001b[0m\u001b[0;34m\u001b[0m\u001b[0;34m\u001b[0m\u001b[0m\n\u001b[0m\u001b[1;32m     21\u001b[0m     \u001b[0;32mfor\u001b[0m \u001b[0mi\u001b[0m \u001b[0;32min\u001b[0m \u001b[0mrange\u001b[0m\u001b[0;34m(\u001b[0m\u001b[0mlen\u001b[0m\u001b[0;34m(\u001b[0m\u001b[0mpopulation\u001b[0m\u001b[0;34m)\u001b[0m\u001b[0;34m)\u001b[0m\u001b[0;34m:\u001b[0m\u001b[0;34m\u001b[0m\u001b[0;34m\u001b[0m\u001b[0m\n\u001b[1;32m     22\u001b[0m         \u001b[0mpop_fitness\u001b[0m\u001b[0;34m.\u001b[0m\u001b[0mappend\u001b[0m\u001b[0;34m(\u001b[0m\u001b[0mfitness\u001b[0m\u001b[0;34m(\u001b[0m\u001b[0mpopulation\u001b[0m\u001b[0;34m[\u001b[0m\u001b[0mi\u001b[0m\u001b[0;34m]\u001b[0m\u001b[0;34m)\u001b[0m\u001b[0;34m)\u001b[0m\u001b[0;34m\u001b[0m\u001b[0;34m\u001b[0m\u001b[0m\n",
      "\u001b[0;32m<ipython-input-215-bfbf462d69ca>\u001b[0m in \u001b[0;36mindividual\u001b[0;34m()\u001b[0m\n\u001b[1;32m     13\u001b[0m     \u001b[0;31m#run model for 20 microgenerations\u001b[0m\u001b[0;34m\u001b[0m\u001b[0;34m\u001b[0m\u001b[0;34m\u001b[0m\u001b[0m\n\u001b[1;32m     14\u001b[0m     \u001b[0;32mfor\u001b[0m \u001b[0mi\u001b[0m \u001b[0;32min\u001b[0m \u001b[0mrange\u001b[0m\u001b[0;34m(\u001b[0m\u001b[0;36m20\u001b[0m\u001b[0;34m)\u001b[0m\u001b[0;34m:\u001b[0m\u001b[0;34m\u001b[0m\u001b[0;34m\u001b[0m\u001b[0m\n\u001b[0;32m---> 15\u001b[0;31m         \u001b[0mmodel\u001b[0m\u001b[0;34m.\u001b[0m\u001b[0mstep\u001b[0m\u001b[0;34m(\u001b[0m\u001b[0;34m)\u001b[0m\u001b[0;34m\u001b[0m\u001b[0;34m\u001b[0m\u001b[0m\n\u001b[0m\u001b[1;32m     16\u001b[0m     \u001b[0;31m#capture final results of model, return list\u001b[0m\u001b[0;34m\u001b[0m\u001b[0;34m\u001b[0m\u001b[0;34m\u001b[0m\u001b[0m\n\u001b[1;32m     17\u001b[0m     \u001b[0mresult\u001b[0m \u001b[0;34m=\u001b[0m \u001b[0;34m[\u001b[0m\u001b[0;34m]\u001b[0m\u001b[0;34m\u001b[0m\u001b[0;34m\u001b[0m\u001b[0m\n",
      "\u001b[0;32m<ipython-input-214-98b234f00908>\u001b[0m in \u001b[0;36mstep\u001b[0;34m(self)\u001b[0m\n\u001b[1;32m     45\u001b[0m                 \u001b[0mself\u001b[0m\u001b[0;34m.\u001b[0m\u001b[0mnum_cooperators\u001b[0m \u001b[0;34m-=\u001b[0m \u001b[0;36m1\u001b[0m\u001b[0;34m\u001b[0m\u001b[0;34m\u001b[0m\u001b[0m\n\u001b[1;32m     46\u001b[0m                 \u001b[0mself\u001b[0m\u001b[0;34m.\u001b[0m\u001b[0mnum_neutrals\u001b[0m \u001b[0;34m+=\u001b[0m \u001b[0;36m1\u001b[0m\u001b[0;34m\u001b[0m\u001b[0;34m\u001b[0m\u001b[0m\n\u001b[0;32m---> 47\u001b[0;31m         \u001b[0mself\u001b[0m\u001b[0;34m.\u001b[0m\u001b[0mschedule\u001b[0m\u001b[0;34m.\u001b[0m\u001b[0mstep\u001b[0m\u001b[0;34m(\u001b[0m\u001b[0;34m)\u001b[0m\u001b[0;31m#update numbers of each phenotype\u001b[0m\u001b[0;34m\u001b[0m\u001b[0;34m\u001b[0m\u001b[0m\n\u001b[0m\u001b[1;32m     48\u001b[0m \u001b[0;34m\u001b[0m\u001b[0m\n\u001b[1;32m     49\u001b[0m \u001b[0;34m\u001b[0m\u001b[0m\n",
      "\u001b[0;32m~/opt/anaconda3/lib/python3.7/site-packages/mesa/time.py\u001b[0m in \u001b[0;36mstep\u001b[0;34m(self)\u001b[0m\n\u001b[1;32m    123\u001b[0m         \"\"\"\n\u001b[1;32m    124\u001b[0m         \u001b[0;32mfor\u001b[0m \u001b[0magent\u001b[0m \u001b[0;32min\u001b[0m \u001b[0mself\u001b[0m\u001b[0;34m.\u001b[0m\u001b[0magent_buffer\u001b[0m\u001b[0;34m(\u001b[0m\u001b[0mshuffled\u001b[0m\u001b[0;34m=\u001b[0m\u001b[0;32mTrue\u001b[0m\u001b[0;34m)\u001b[0m\u001b[0;34m:\u001b[0m\u001b[0;34m\u001b[0m\u001b[0;34m\u001b[0m\u001b[0m\n\u001b[0;32m--> 125\u001b[0;31m             \u001b[0magent\u001b[0m\u001b[0;34m.\u001b[0m\u001b[0mstep\u001b[0m\u001b[0;34m(\u001b[0m\u001b[0;34m)\u001b[0m\u001b[0;34m\u001b[0m\u001b[0;34m\u001b[0m\u001b[0m\n\u001b[0m\u001b[1;32m    126\u001b[0m         \u001b[0mself\u001b[0m\u001b[0;34m.\u001b[0m\u001b[0msteps\u001b[0m \u001b[0;34m+=\u001b[0m \u001b[0;36m1\u001b[0m\u001b[0;34m\u001b[0m\u001b[0;34m\u001b[0m\u001b[0m\n\u001b[1;32m    127\u001b[0m         \u001b[0mself\u001b[0m\u001b[0;34m.\u001b[0m\u001b[0mtime\u001b[0m \u001b[0;34m+=\u001b[0m \u001b[0;36m1\u001b[0m\u001b[0;34m\u001b[0m\u001b[0;34m\u001b[0m\u001b[0m\n",
      "\u001b[0;32m<ipython-input-133-0068adf67e35>\u001b[0m in \u001b[0;36mstep\u001b[0;34m(self)\u001b[0m\n\u001b[1;32m     23\u001b[0m \u001b[0;34m\u001b[0m\u001b[0m\n\u001b[1;32m     24\u001b[0m     \u001b[0;32mdef\u001b[0m \u001b[0mstep\u001b[0m\u001b[0;34m(\u001b[0m\u001b[0mself\u001b[0m\u001b[0;34m)\u001b[0m\u001b[0;34m:\u001b[0m\u001b[0;34m\u001b[0m\u001b[0;34m\u001b[0m\u001b[0m\n\u001b[0;32m---> 25\u001b[0;31m         \u001b[0mself\u001b[0m\u001b[0;34m.\u001b[0m\u001b[0mmove\u001b[0m\u001b[0;34m(\u001b[0m\u001b[0;34m)\u001b[0m\u001b[0;34m\u001b[0m\u001b[0;34m\u001b[0m\u001b[0m\n\u001b[0m\u001b[1;32m     26\u001b[0m         \u001b[0;31m#30 percent chance that defector will take from\u001b[0m\u001b[0;34m\u001b[0m\u001b[0;34m\u001b[0m\u001b[0;34m\u001b[0m\u001b[0m\n\u001b[1;32m     27\u001b[0m         \u001b[0;31m#community pool\u001b[0m\u001b[0;34m\u001b[0m\u001b[0;34m\u001b[0m\u001b[0;34m\u001b[0m\u001b[0m\n",
      "\u001b[0;32m<ipython-input-133-0068adf67e35>\u001b[0m in \u001b[0;36mmove\u001b[0;34m(self)\u001b[0m\n\u001b[1;32m     11\u001b[0m             \u001b[0mself\u001b[0m\u001b[0;34m.\u001b[0m\u001b[0mpos\u001b[0m\u001b[0;34m,\u001b[0m\u001b[0;34m\u001b[0m\u001b[0;34m\u001b[0m\u001b[0m\n\u001b[1;32m     12\u001b[0m             \u001b[0mmoore\u001b[0m\u001b[0;34m=\u001b[0m\u001b[0;32mTrue\u001b[0m\u001b[0;34m,\u001b[0m\u001b[0;34m\u001b[0m\u001b[0;34m\u001b[0m\u001b[0m\n\u001b[0;32m---> 13\u001b[0;31m             include_center=False)\n\u001b[0m\u001b[1;32m     14\u001b[0m         \u001b[0mnew_position\u001b[0m \u001b[0;34m=\u001b[0m \u001b[0mself\u001b[0m\u001b[0;34m.\u001b[0m\u001b[0mrandom\u001b[0m\u001b[0;34m.\u001b[0m\u001b[0mchoice\u001b[0m\u001b[0;34m(\u001b[0m\u001b[0mpossible_steps\u001b[0m\u001b[0;34m)\u001b[0m\u001b[0;34m\u001b[0m\u001b[0;34m\u001b[0m\u001b[0m\n\u001b[1;32m     15\u001b[0m         \u001b[0;32mif\u001b[0m \u001b[0;34m(\u001b[0m\u001b[0mself\u001b[0m\u001b[0;34m.\u001b[0m\u001b[0mmodel\u001b[0m\u001b[0;34m.\u001b[0m\u001b[0mgrid\u001b[0m\u001b[0;34m.\u001b[0m\u001b[0mis_cell_empty\u001b[0m\u001b[0;34m(\u001b[0m\u001b[0mnew_position\u001b[0m\u001b[0;34m)\u001b[0m\u001b[0;34m)\u001b[0m\u001b[0;34m:\u001b[0m\u001b[0;34m\u001b[0m\u001b[0;34m\u001b[0m\u001b[0m\n",
      "\u001b[0;32m~/opt/anaconda3/lib/python3.7/site-packages/mesa/space.py\u001b[0m in \u001b[0;36mget_neighborhood\u001b[0;34m(self, pos, moore, include_center, radius)\u001b[0m\n\u001b[1;32m    271\u001b[0m                     \u001b[0mcoordinates\u001b[0m\u001b[0;34m.\u001b[0m\u001b[0madd\u001b[0m\u001b[0;34m(\u001b[0m\u001b[0mcoord\u001b[0m\u001b[0;34m)\u001b[0m\u001b[0;34m\u001b[0m\u001b[0;34m\u001b[0m\u001b[0m\n\u001b[1;32m    272\u001b[0m \u001b[0;34m\u001b[0m\u001b[0m\n\u001b[0;32m--> 273\u001b[0;31m             \u001b[0mneighborhood\u001b[0m \u001b[0;34m=\u001b[0m \u001b[0msorted\u001b[0m\u001b[0;34m(\u001b[0m\u001b[0mcoordinates\u001b[0m\u001b[0;34m)\u001b[0m\u001b[0;34m\u001b[0m\u001b[0;34m\u001b[0m\u001b[0m\n\u001b[0m\u001b[1;32m    274\u001b[0m             \u001b[0mself\u001b[0m\u001b[0;34m.\u001b[0m\u001b[0m_neighborhood_cache\u001b[0m\u001b[0;34m[\u001b[0m\u001b[0mcache_key\u001b[0m\u001b[0;34m]\u001b[0m \u001b[0;34m=\u001b[0m \u001b[0mneighborhood\u001b[0m\u001b[0;34m\u001b[0m\u001b[0;34m\u001b[0m\u001b[0m\n\u001b[1;32m    275\u001b[0m \u001b[0;34m\u001b[0m\u001b[0m\n",
      "\u001b[0;31mKeyboardInterrupt\u001b[0m: "
     ]
    }
   ],
   "source": [
    "pop_size = 100\n",
    "num_generations = 500\n",
    "\n",
    "#create population of individuals \n",
    "\"\"\"population = []\n",
    "pop_fitness = []\n",
    "for i in range(pop_size):\n",
    "    ind = individual()\n",
    "    x = fitness(ind)\n",
    "    population.append(ind)\n",
    "    pop_fitness.append(x)\"\"\"\n",
    "\n",
    "#for each generation\n",
    "for generation in range(num_generations):\n",
    "    #create population of individuals\n",
    "    population = []\n",
    "    pop_fitness = []\n",
    "    for i in range(pop_size):\n",
    "        #mutation function is taking too long\n",
    "        population.append(mutation(individual(),prob_mut=.1))\n",
    "    for i in range(len(population)):\n",
    "        pop_fitness.append(fitness(population[i]))\n",
    "    population = random.choices(population, k=pop_size, weights=pop_fitness)\n",
    "    mean_fitnesses = []\n",
    "    mean_fitnesses.append(mean(pop_fitness))"
   ]
  },
  {
   "cell_type": "markdown",
   "metadata": {},
   "source": [
    "Data analysis"
   ]
  },
  {
   "cell_type": "code",
   "execution_count": null,
   "metadata": {},
   "outputs": [],
   "source": [
    "plt.figure()\n",
    "plt.plot(mean_fitnesses)\n",
    "plt.xlabel(\"Generation\")\n",
    "plt.ylabel(\"Mean Population Fitness\")\n",
    "plt.show()\n"
   ]
  }
 ],
 "metadata": {
  "interpreter": {
   "hash": "d24d9ce1c3b4c64cd7e55555502481eca52e9eda0f66884f52b1133c187c26e6"
  },
  "kernelspec": {
   "display_name": "Python 3.7.11 ('base')",
   "language": "python",
   "name": "python3"
  },
  "language_info": {
   "codemirror_mode": {
    "name": "ipython",
    "version": 3
   },
   "file_extension": ".py",
   "mimetype": "text/x-python",
   "name": "python",
   "nbconvert_exporter": "python",
   "pygments_lexer": "ipython3",
   "version": "3.7.11"
  },
  "orig_nbformat": 4
 },
 "nbformat": 4,
 "nbformat_minor": 2
}
