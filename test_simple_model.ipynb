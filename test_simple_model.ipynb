{
 "cells": [
  {
   "cell_type": "markdown",
   "metadata": {},
   "source": [
    "Importing libraries"
   ]
  },
  {
   "cell_type": "code",
   "execution_count": 131,
   "metadata": {},
   "outputs": [],
   "source": [
    "from mesa import Agent, Model\n",
    "from mesa.time import RandomActivation\n",
    "import matplotlib.pyplot as plt\n",
    "import random\n",
    "random.seed(100)\n",
    "import math\n",
    "\n",
    "from mesa.space import SingleGrid\n",
    "from mesa.space import Grid\n",
    "from numpy import mean, log\n",
    "from mesa.datacollection import DataCollector\n",
    "#import visualization tools\n",
    "from mesa.visualization.modules import CanvasGrid\n",
    "from mesa.visualization.ModularVisualization import ModularServer"
   ]
  },
  {
   "cell_type": "markdown",
   "metadata": {},
   "source": [
    "Agent classes:"
   ]
  },
  {
   "cell_type": "markdown",
   "metadata": {},
   "source": [
    "Cooperator class: \n",
    "can directly transfer or add to community pool. If cooperator directly transacts w/ defector, cooperator turns into Neutral, and can no longer add to community pool or perform direct transactions"
   ]
  },
  {
   "cell_type": "code",
   "execution_count": 213,
   "metadata": {},
   "outputs": [],
   "source": [
    "class Cooperator(Agent):\n",
    "    def __init__(self, unique_id, model):\n",
    "        super().__init__(unique_id, model)\n",
    "        self.wealth = 5\n",
    "        self.neutral = False\n",
    "        self.pos = (0,0)\n",
    "        self.identifier = 'C'\n",
    "\n",
    "#cooperators only move if empty cell\n",
    "    def move(self):\n",
    "        current = self.pos\n",
    "        possible_steps = self.model.grid.get_neighborhood(\n",
    "            self.pos,\n",
    "            moore=True,\n",
    "            include_center=False)\n",
    "        new_position = self.random.choice(possible_steps)\n",
    "        if (self.model.grid.is_cell_empty(new_position)):\n",
    "            self.model.grid.move_agent(self, new_position)\n",
    "        \n",
    "    #create wealth for community\n",
    "    def add_wealth_to_community(self):\n",
    "        self.model.communitypool += 1\n",
    "\n",
    "    def take_from_communitypool(self):\n",
    "        if self.wealth < 3 & self.model.communitypool > 0:\n",
    "            self.model.communitypool -= 1\n",
    "            self.wealth += 1\n",
    "\n",
    "    #direct transfer of wealth btwn cooperator and other\n",
    "    def direct_transfer(self):\n",
    "        neighbors = self.model.grid.get_neighborhood(self.pos,\n",
    "                                                     moore=False, radius=1)\n",
    "        if len(neighbors) > 1:\n",
    "            other = self.random.choice(neighbors)\n",
    "            #if other is defector, give 1/3 money away + turn neutral\n",
    "            if other.identifier == 'D':\n",
    "                self.neutral = True\n",
    "                self.identifier = 'N'\n",
    "                transfer_amt = self.wealth / 3\n",
    "                other.wealth += transfer_amt\n",
    "                self.wealth = 0\n",
    "                #TODO: change colors when neutral\n",
    "            else:\n",
    "                other.wealth += 1\n",
    "                self.wealth -= 1\n",
    "\n",
    "    def step(self):\n",
    "        if self.wealth > 5:\n",
    "            self.direct_transfer()\n",
    "            self.move()\n",
    "        elif self.wealth > 3:\n",
    "            self.add_wealth_to_community()\n"
   ]
  },
  {
   "cell_type": "markdown",
   "metadata": {},
   "source": [
    "Defector Class: defectors can take from the community pool but do not add to it. when defectors interact w/ cooperators, they turn cooperators neutral"
   ]
  },
  {
   "cell_type": "code",
   "execution_count": 133,
   "metadata": {},
   "outputs": [],
   "source": [
    "class Defector(Agent):\n",
    "    def __init__(self, unique_id, model):\n",
    "        super().__init__(unique_id, model)\n",
    "        self.wealth = 5\n",
    "        self.pos = (0,0)\n",
    "        self.identifier = 'D'\n",
    "\n",
    "    def move(self):\n",
    "        current = self.pos\n",
    "        possible_steps = self.model.grid.get_neighborhood(\n",
    "            self.pos,\n",
    "            moore=True,\n",
    "            include_center=False)\n",
    "        new_position = self.random.choice(possible_steps)\n",
    "        if (self.model.grid.is_cell_empty(new_position)):\n",
    "            self.model.grid.move_agent(self, new_position)\n",
    "\n",
    "    #at random time intervals, take from community pool\n",
    "    def take_from_communitypool(self):\n",
    "        if self.model.communitypool > 0:\n",
    "            self.wealth += 1\n",
    "            self.model.communitypool -= 1\n",
    "\n",
    "    def step(self):\n",
    "        self.move()\n",
    "        #30 percent chance that defector will take from\n",
    "        #community pool\n",
    "        x = random.randint(0, 9)\n",
    "        if x % 3 == 0:\n",
    "            self.take_from_communitypool()\n"
   ]
  },
  {
   "cell_type": "markdown",
   "metadata": {},
   "source": [
    "Community class (this is the model)"
   ]
  },
  {
   "cell_type": "code",
   "execution_count": 214,
   "metadata": {},
   "outputs": [],
   "source": [
    "class Community(Model):\n",
    "   # def __init__(self, C, D, width, height):\n",
    "    def __init__(self, N, width, height):\n",
    "        self.num_cooperators = int(N/2)\n",
    "        self.num_defectors = self.num_cooperators - 2\n",
    "        self.num_neutrals = 0\n",
    "        self.grid = SingleGrid(width, height,torus=True)\n",
    "        self.schedule = RandomActivation(self)\n",
    "        self.communitypool = 0\n",
    "        #create defectors\n",
    "        for i in range(self.num_defectors):\n",
    "            b = Defector(i, self)\n",
    "            self.schedule.add(b)\n",
    "           #randomly place defectors\n",
    "            x = self.random.randrange(self.grid.width)\n",
    "            y = self.random.randrange(self.grid.height)\n",
    "            if (self.grid.is_cell_empty([x,y])):\n",
    "                self.grid.place_agent(b,(x,y))\n",
    "                b.pos = (x,y)\n",
    "        #create cooperators\n",
    "        for i in range(self.num_defectors, self.num_cooperators):\n",
    "            a = Cooperator(i, self)\n",
    "            self.schedule.add(a)\n",
    "            #add cooperators to grid\n",
    "            x = self.random.randrange(self.grid.width)\n",
    "            y = self.random.randrange(self.grid.height)\n",
    "            #while cell is full\n",
    "            while (self.grid.is_cell_empty([x,y]) == False):\n",
    "                #recalculate x and y\n",
    "                x = self.random.randrange(self.grid.width)\n",
    "                y = self.random.randrange(self.grid.height)\n",
    "                if self.grid.is_cell_empty([x,y]):\n",
    "                    break\n",
    "            self.grid.position_agent(a,(x,y))\n",
    "            a.pos = (x,y)\n",
    "           \n",
    "    def step(self):\n",
    "        #update numbers of each phenotype\n",
    "        for agent in self.schedule.agents:\n",
    "            if agent.identifier == 'C':\n",
    "                self.num_cooperators += 1\n",
    "            elif agent.identifier == 'D':\n",
    "                self.num_defectors += 1\n",
    "            elif agent.identifier == 'N':\n",
    "                self.num_cooperators -= 1\n",
    "                self.num_neutrals += 1\n",
    "        self.schedule.step()#update numbers of each phenotype\n",
    "        \n",
    "\n"
   ]
  },
  {
   "cell_type": "code",
   "execution_count": 135,
   "metadata": {},
   "outputs": [
    {
     "name": "stdout",
     "output_type": "stream",
     "text": [
      "5\n",
      "5\n",
      "0\n"
     ]
    }
   ],
   "source": [
    "a = Cooperator(1, Community,)\n",
    "print(a.wealth)\n",
    "b = Defector(2,Community)\n",
    "print(b.wealth)\n",
    "model = Community(20,10,10)\n",
    "print(model.communitypool)\n",
    "#TODO: issue is with placing agents"
   ]
  },
  {
   "cell_type": "code",
   "execution_count": 136,
   "metadata": {},
   "outputs": [
    {
     "name": "stdout",
     "output_type": "stream",
     "text": [
      "25\n",
      "23\n",
      "65\n",
      "483\n"
     ]
    }
   ],
   "source": [
    "model = Community(50,10,10)\n",
    "print(model.num_cooperators)\n",
    "print(model.num_defectors)\n",
    "for i in range(20):\n",
    "    model.step()\n",
    "\n",
    "print(model.num_cooperators)\n",
    "print(model.num_defectors)"
   ]
  },
  {
   "cell_type": "markdown",
   "metadata": {},
   "source": [
    "Helper functions for evolving ideal community"
   ]
  },
  {
   "cell_type": "markdown",
   "metadata": {},
   "source": [
    "Individual function"
   ]
  },
  {
   "cell_type": "code",
   "execution_count": 215,
   "metadata": {},
   "outputs": [],
   "source": [
    "def individual():\n",
    "    #Randomly initializing model values:\n",
    "    #size is a random square number\n",
    "    choice = random.randint(10,100)\n",
    "    height = choice\n",
    "    width = choice\n",
    "    size = choice * choice\n",
    "    #C/D is a fixed ratio of that number\n",
    "    C = int(.95 * size)\n",
    "    D = size - C\n",
    "#create model object\n",
    "    model = Community(size, width, height)\n",
    "    #run model for 20 microgenerations\n",
    "    for i in range(20):\n",
    "        model.step()\n",
    "    #capture final results of model, return list\n",
    "    result = []\n",
    "    result.append(model.communitypool)\n",
    "    result.append(model.num_cooperators)\n",
    "    result.append(model.num_defectors)\n",
    "    result.append(model.num_neutrals)\n",
    "    result.append(C)\n",
    "    result.append(D)\n",
    "    result.append(size)\n",
    "    return result\n"
   ]
  },
  {
   "cell_type": "code",
   "execution_count": 216,
   "metadata": {},
   "outputs": [
    {
     "name": "stdout",
     "output_type": "stream",
     "text": [
      "[0, 2778, 57456, 0, 5202, 274, 5476]\n"
     ]
    }
   ],
   "source": [
    "print(individual())\n",
    "#TODO: no direct transactions are occurring"
   ]
  },
  {
   "cell_type": "code",
   "execution_count": 222,
   "metadata": {},
   "outputs": [],
   "source": [
    "#fitness function returns float\n",
    "def fitness(result):\n",
    "    prob_reproduction = .5\n",
    "    #reward high ratio of cooperators\n",
    "    if result[1] > result[2]:\n",
    "        prob_reproduction = .9\n",
    "    #punish high proportion of defectors\n",
    "    elif result[2] > result[1]:\n",
    "        prob_reproduction = 0.2\n",
    "    #reward high ratio of cooperators to neutrals\n",
    "    elif (result[3] / result[1]) < 0.3:\n",
    "        #high probability of reproduction\n",
    "        prob_reproduction = .7\n",
    "    #reward arbitrarily high value for community pool\n",
    "    elif result[0] > 60:\n",
    "        prob_reproduction = .8\n",
    "    return prob_reproduction"
   ]
  },
  {
   "cell_type": "code",
   "execution_count": 230,
   "metadata": {},
   "outputs": [
    {
     "name": "stdout",
     "output_type": "stream",
     "text": [
      "98742\n",
      "[0, 4744, 98742, 0, 8938, 471, 9409]\n",
      "0.2\n"
     ]
    }
   ],
   "source": [
    "result = individual()\n",
    "print(result[2])\n",
    "print(result)\n",
    "print(fitness(result))"
   ]
  },
  {
   "cell_type": "code",
   "execution_count": 239,
   "metadata": {},
   "outputs": [],
   "source": [
    "#mutation function randomly changes some parameter of ind\n",
    "#TODO: mutations should change INITIAL conditions, not results\n",
    "def mutation(individual, prob_mut=.3):\n",
    "    mutated_individual = []\n",
    "    if random.random() < prob_mut:\n",
    "        #perform some mutation on individual\n",
    "        #try: changing defectors\n",
    "        mutated_individual = individual\n",
    "        mutated_individual[2] = random.randint(0,10)\n",
    "    else: \n",
    "        mutated_individual = individual\n",
    "    return mutated_individual\n"
   ]
  },
  {
   "cell_type": "markdown",
   "metadata": {},
   "source": [
    "Evolving model"
   ]
  },
  {
   "cell_type": "code",
   "execution_count": 277,
   "metadata": {},
   "outputs": [
    {
     "name": "stdout",
     "output_type": "stream",
     "text": [
      "[1, 2, 3, 5]\n",
      "[1, 2, 3, 5]\n",
      "[4, 5, 6, 6]\n",
      "[7, 8, 9, 7]\n",
      "[4, 5, 6, 6]\n",
      "0.2\n",
      "0.2\n",
      "[]\n",
      "[1, 2, 7, 5]\n"
     ]
    }
   ],
   "source": [
    "list = [1,2,3,5]\n",
    "list2 = [4,5,6,6]\n",
    "list3 = [7,8,9,7]\n",
    "list4 = []\n",
    "list4.append(list)\n",
    "list4.append(list2)\n",
    "list4.append(list3)\n",
    "print(list4[0])\n",
    "pop_fitness = []\n",
    "for i in range(len(list4)):\n",
    "    print(list4[i])\n",
    "print(list4[1])\n",
    "print(fitness([1,2,3,5]))\n",
    "print(fitness(list4[0]))\n",
    "print(pop_fitness)\n",
    "print(mutation(list, prob_mut = .5))\n"
   ]
  },
  {
   "cell_type": "code",
   "execution_count": 221,
   "metadata": {},
   "outputs": [
    {
     "name": "stdout",
     "output_type": "stream",
     "text": [
      "[0.2, 0.2, 0.2, 0.2, 0.2, 0.2, 0.2, 0.2, 0.2, 0.2, 0.2, 0.2, 0.2, 0.2, 0.2, 0.2, 0.2, 0.2, 0.2, 0.2, 0.2, 0.2, 0.2, 0.2, 0.2, 0.2, 0.2, 0.2, 0.2, 0.2, 0.2, 0.2, 0.2, 0.2, 0.2, 0.2, 0.2, 0.2, 0.2, 0.2, 0.2, 0.2, 0.2, 0.2, 0.2, 0.2, 0.2, 0.2, 0.2, 0.2, 0.2, 0.2, 0.2, 0.2, 0.2, 0.2, 0.2, 0.2, 0.2, 0.2, 0.2, 0.2, 0.2, 0.2, 0.2, 0.2, 0.2, 0.2, 0.2, 0.2, 0.2, 0.2, 0.2, 0.2, 0.2, 0.2, 0.2, 0.2, 0.2, 0.2, 0.2, 0.2, 0.2, 0.2, 0.2, 0.2, 0.2, 0.2, 0.2, 0.2, 0.2, 0.2, 0.2, 0.2, 0.2, 0.2, 0.2, 0.2, 0.2, 0.2]\n"
     ]
    }
   ],
   "source": [
    "pop_size = 100\n",
    "num_generations = 500\n",
    "\n",
    "#create population of individuals\n",
    "population = []\n",
    "for i in range(pop_size):\n",
    "    population.append(individual())\n",
    "#assign a fitness to each individual\n",
    "pop_fitness = []\n",
    "for i in range(len(population)):\n",
    "    pop_fitness.append(fitness(population[i]))\n",
    "print(pop_fitness)"
   ]
  },
  {
   "cell_type": "code",
   "execution_count": 278,
   "metadata": {},
   "outputs": [
    {
     "name": "stdout",
     "output_type": "stream",
     "text": [
      "[[0, 652, 10, 0, 1163, 62, 1225], [0, 1552, 3, 0, 2873, 152, 3025], [0, 1340, 27258, 0, 2470, 131, 2601], [0, 3652, 1, 0, 6863, 362, 7225], [0, 404, 7602, 0, 692, 37, 729], [0, 4940, 102858, 0, 9310, 491, 9801], [0, 880, 6, 0, 1596, 85, 1681], [0, 1098, 6, 0, 2010, 106, 2116], [0, 152, 2310, 0, 213, 12, 225], [0, 4272, 88830, 0, 8040, 424, 8464], [0, 202, 3360, 0, 307, 17, 324], [0, 2704, 8, 0, 5062, 267, 5329], [0, 2852, 0, 0, 5343, 282, 5625], [0, 1240, 25158, 0, 2280, 121, 2401], [0, 1444, 7, 0, 2668, 141, 2809], [0, 352, 6510, 0, 593, 32, 625], [0, 3240, 67158, 0, 6080, 320, 6400], [0, 3082, 63840, 0, 5779, 305, 6084], [0, 124, 9, 0, 160, 9, 169], [0, 1392, 28350, 0, 2568, 136, 2704], [0, 4552, 94710, 0, 8573, 452, 9025], [0, 3402, 70560, 0, 6387, 337, 6724], [0, 90, 1008, 0, 95, 5, 100], [0, 4648, 3, 0, 8755, 461, 9216], [0, 1392, 28350, 0, 2568, 136, 2704], [0, 2420, 49938, 0, 4522, 239, 4761], [0, 652, 8, 0, 1163, 62, 1225], [0, 168, 5, 0, 243, 13, 256], [0, 1444, 4, 0, 2668, 141, 2809], [0, 964, 19362, 0, 1756, 93, 1849], [0, 304, 10, 0, 502, 27, 529], [0, 1240, 9, 0, 2280, 121, 2401], [0, 1962, 40320, 0, 3651, 193, 3844], [1, 240, 0, 0, 380, 20, 400], [0, 2218, 5, 0, 4138, 218, 4356], [0, 3652, 75810, 0, 6863, 362, 7225], [0, 1052, 7, 0, 1923, 102, 2025], [0, 404, 7602, 0, 692, 37, 729], [0, 4552, 9, 0, 8573, 452, 9025], [0, 460, 10, 0, 798, 43, 841], [0, 5040, 104958, 0, 9500, 500, 10000], [0, 152, 10, 0, 213, 12, 225], [0, 90, 3, 0, 95, 5, 100], [0, 2420, 49938, 0, 4522, 239, 4761], [0, 3320, 68838, 0, 6232, 329, 6561], [0, 584, 10, 0, 1034, 55, 1089], [0, 652, 12810, 0, 1163, 62, 1225], [0, 1840, 0, 0, 3420, 180, 3600], [0, 3004, 5, 0, 5632, 297, 5929], [0, 4458, 5, 0, 8394, 442, 8836], [0, 3738, 77616, 0, 7026, 370, 7396], [0, 3160, 8, 0, 5928, 313, 6241], [0, 2284, 7, 0, 4264, 225, 4489], [0, 460, 1, 0, 798, 43, 841], [0, 432, 3, 0, 744, 40, 784], [0, 2024, 41622, 0, 3770, 199, 3969], [0, 124, 1722, 0, 160, 9, 169], [0, 2928, 8, 0, 5487, 289, 5776], [0, 152, 7, 0, 213, 12, 225], [0, 1192, 24150, 0, 2188, 116, 2304], [0, 3912, 81270, 0, 7356, 388, 7744], [0, 3320, 8, 0, 6232, 329, 6561], [0, 184, 2982, 0, 274, 15, 289], [0, 138, 7, 0, 186, 10, 196], [0, 3568, 74046, 0, 6703, 353, 7056], [0, 1900, 7, 0, 3534, 187, 3721], [0, 1192, 24150, 0, 2188, 116, 2304], [0, 3824, 79422, 0, 7190, 379, 7569], [0, 3484, 10, 0, 6544, 345, 6889], [0, 1722, 35280, 0, 3195, 169, 3364], [0, 652, 2, 0, 1163, 62, 1225], [0, 304, 3, 0, 502, 27, 529], [0, 3402, 10, 0, 6387, 337, 6724], [0, 1008, 20286, 0, 1839, 97, 1936], [0, 1608, 32886, 0, 2979, 157, 3136], [0, 4940, 3, 0, 9310, 491, 9801], [0, 4940, 10, 0, 9310, 491, 9801], [0, 1962, 40320, 0, 3651, 193, 3844], [0, 304, 10, 0, 502, 27, 529], [0, 202, 3360, 0, 307, 17, 324], [0, 688, 1, 0, 1231, 65, 1296], [0, 138, 2016, 0, 186, 10, 196], [0, 4842, 7, 0, 9123, 481, 9604], [0, 964, 4, 0, 1756, 93, 1849], [0, 584, 11382, 0, 1034, 55, 1089], [0, 460, 8778, 0, 798, 43, 841], [0, 3568, 7, 0, 6703, 353, 7056], [0, 378, 7056, 0, 642, 34, 676], [0, 618, 12096, 0, 1098, 58, 1156], [0, 1290, 26208, 0, 2375, 125, 2500], [0, 724, 0, 0, 1300, 69, 1369], [0, 618, 12096, 0, 1098, 58, 1156], [0, 520, 4, 0, 912, 49, 961], [0, 4842, 10, 0, 9123, 481, 9604], [0, 4552, 5, 0, 8573, 452, 9025], [0, 2152, 44310, 0, 4013, 212, 4225], [0, 1962, 40320, 0, 3651, 193, 3844], [0, 520, 10038, 0, 912, 49, 961], [0, 2928, 10, 0, 5487, 289, 5776], [0, 2352, 48510, 0, 4392, 232, 4624]]\n"
     ]
    }
   ],
   "source": [
    "#testing a new approach\n",
    "pop_size = 100\n",
    "num_generations = 500\n",
    "population = []\n",
    "for i in range(pop_size):\n",
    "    ind = individual()\n",
    "    mut = mutation(ind, prob_mut = .5)\n",
    "    population.append(mut)\n",
    "print(population)"
   ]
  },
  {
   "cell_type": "code",
   "execution_count": 279,
   "metadata": {},
   "outputs": [
    {
     "ename": "KeyboardInterrupt",
     "evalue": "",
     "output_type": "error",
     "traceback": [
      "\u001b[0;31m---------------------------------------------------------------------------\u001b[0m",
      "\u001b[0;31mKeyboardInterrupt\u001b[0m                         Traceback (most recent call last)",
      "\u001b[0;32m<ipython-input-279-4a3d597885e9>\u001b[0m in \u001b[0;36m<module>\u001b[0;34m\u001b[0m\n\u001b[1;32m      9\u001b[0m     \u001b[0;31m#create random population w/ mutations\u001b[0m\u001b[0;34m\u001b[0m\u001b[0;34m\u001b[0m\u001b[0;34m\u001b[0m\u001b[0m\n\u001b[1;32m     10\u001b[0m     \u001b[0;32mfor\u001b[0m \u001b[0mi\u001b[0m \u001b[0;32min\u001b[0m \u001b[0mrange\u001b[0m\u001b[0;34m(\u001b[0m\u001b[0mpop_size\u001b[0m\u001b[0;34m)\u001b[0m\u001b[0;34m:\u001b[0m\u001b[0;34m\u001b[0m\u001b[0;34m\u001b[0m\u001b[0m\n\u001b[0;32m---> 11\u001b[0;31m         \u001b[0mind\u001b[0m \u001b[0;34m=\u001b[0m \u001b[0mindividual\u001b[0m\u001b[0;34m(\u001b[0m\u001b[0;34m)\u001b[0m\u001b[0;34m\u001b[0m\u001b[0;34m\u001b[0m\u001b[0m\n\u001b[0m\u001b[1;32m     12\u001b[0m         \u001b[0mmut\u001b[0m \u001b[0;34m=\u001b[0m \u001b[0mmutation\u001b[0m\u001b[0;34m(\u001b[0m\u001b[0mind\u001b[0m\u001b[0;34m,\u001b[0m \u001b[0mprob_mut\u001b[0m \u001b[0;34m=\u001b[0m \u001b[0;36m.4\u001b[0m\u001b[0;34m)\u001b[0m\u001b[0;34m\u001b[0m\u001b[0;34m\u001b[0m\u001b[0m\n\u001b[1;32m     13\u001b[0m         \u001b[0mpopulation\u001b[0m\u001b[0;34m.\u001b[0m\u001b[0mappend\u001b[0m\u001b[0;34m(\u001b[0m\u001b[0mmut\u001b[0m\u001b[0;34m)\u001b[0m\u001b[0;34m\u001b[0m\u001b[0;34m\u001b[0m\u001b[0m\n",
      "\u001b[0;32m<ipython-input-215-bfbf462d69ca>\u001b[0m in \u001b[0;36mindividual\u001b[0;34m()\u001b[0m\n\u001b[1;32m     13\u001b[0m     \u001b[0;31m#run model for 20 microgenerations\u001b[0m\u001b[0;34m\u001b[0m\u001b[0;34m\u001b[0m\u001b[0;34m\u001b[0m\u001b[0m\n\u001b[1;32m     14\u001b[0m     \u001b[0;32mfor\u001b[0m \u001b[0mi\u001b[0m \u001b[0;32min\u001b[0m \u001b[0mrange\u001b[0m\u001b[0;34m(\u001b[0m\u001b[0;36m20\u001b[0m\u001b[0;34m)\u001b[0m\u001b[0;34m:\u001b[0m\u001b[0;34m\u001b[0m\u001b[0;34m\u001b[0m\u001b[0m\n\u001b[0;32m---> 15\u001b[0;31m         \u001b[0mmodel\u001b[0m\u001b[0;34m.\u001b[0m\u001b[0mstep\u001b[0m\u001b[0;34m(\u001b[0m\u001b[0;34m)\u001b[0m\u001b[0;34m\u001b[0m\u001b[0;34m\u001b[0m\u001b[0m\n\u001b[0m\u001b[1;32m     16\u001b[0m     \u001b[0;31m#capture final results of model, return list\u001b[0m\u001b[0;34m\u001b[0m\u001b[0;34m\u001b[0m\u001b[0;34m\u001b[0m\u001b[0m\n\u001b[1;32m     17\u001b[0m     \u001b[0mresult\u001b[0m \u001b[0;34m=\u001b[0m \u001b[0;34m[\u001b[0m\u001b[0;34m]\u001b[0m\u001b[0;34m\u001b[0m\u001b[0;34m\u001b[0m\u001b[0m\n",
      "\u001b[0;32m<ipython-input-214-98b234f00908>\u001b[0m in \u001b[0;36mstep\u001b[0;34m(self)\u001b[0m\n\u001b[1;32m     45\u001b[0m                 \u001b[0mself\u001b[0m\u001b[0;34m.\u001b[0m\u001b[0mnum_cooperators\u001b[0m \u001b[0;34m-=\u001b[0m \u001b[0;36m1\u001b[0m\u001b[0;34m\u001b[0m\u001b[0;34m\u001b[0m\u001b[0m\n\u001b[1;32m     46\u001b[0m                 \u001b[0mself\u001b[0m\u001b[0;34m.\u001b[0m\u001b[0mnum_neutrals\u001b[0m \u001b[0;34m+=\u001b[0m \u001b[0;36m1\u001b[0m\u001b[0;34m\u001b[0m\u001b[0;34m\u001b[0m\u001b[0m\n\u001b[0;32m---> 47\u001b[0;31m         \u001b[0mself\u001b[0m\u001b[0;34m.\u001b[0m\u001b[0mschedule\u001b[0m\u001b[0;34m.\u001b[0m\u001b[0mstep\u001b[0m\u001b[0;34m(\u001b[0m\u001b[0;34m)\u001b[0m\u001b[0;31m#update numbers of each phenotype\u001b[0m\u001b[0;34m\u001b[0m\u001b[0;34m\u001b[0m\u001b[0m\n\u001b[0m\u001b[1;32m     48\u001b[0m \u001b[0;34m\u001b[0m\u001b[0m\n\u001b[1;32m     49\u001b[0m \u001b[0;34m\u001b[0m\u001b[0m\n",
      "\u001b[0;32m~/opt/anaconda3/lib/python3.7/site-packages/mesa/time.py\u001b[0m in \u001b[0;36mstep\u001b[0;34m(self)\u001b[0m\n\u001b[1;32m    123\u001b[0m         \"\"\"\n\u001b[1;32m    124\u001b[0m         \u001b[0;32mfor\u001b[0m \u001b[0magent\u001b[0m \u001b[0;32min\u001b[0m \u001b[0mself\u001b[0m\u001b[0;34m.\u001b[0m\u001b[0magent_buffer\u001b[0m\u001b[0;34m(\u001b[0m\u001b[0mshuffled\u001b[0m\u001b[0;34m=\u001b[0m\u001b[0;32mTrue\u001b[0m\u001b[0;34m)\u001b[0m\u001b[0;34m:\u001b[0m\u001b[0;34m\u001b[0m\u001b[0;34m\u001b[0m\u001b[0m\n\u001b[0;32m--> 125\u001b[0;31m             \u001b[0magent\u001b[0m\u001b[0;34m.\u001b[0m\u001b[0mstep\u001b[0m\u001b[0;34m(\u001b[0m\u001b[0;34m)\u001b[0m\u001b[0;34m\u001b[0m\u001b[0;34m\u001b[0m\u001b[0m\n\u001b[0m\u001b[1;32m    126\u001b[0m         \u001b[0mself\u001b[0m\u001b[0;34m.\u001b[0m\u001b[0msteps\u001b[0m \u001b[0;34m+=\u001b[0m \u001b[0;36m1\u001b[0m\u001b[0;34m\u001b[0m\u001b[0;34m\u001b[0m\u001b[0m\n\u001b[1;32m    127\u001b[0m         \u001b[0mself\u001b[0m\u001b[0;34m.\u001b[0m\u001b[0mtime\u001b[0m \u001b[0;34m+=\u001b[0m \u001b[0;36m1\u001b[0m\u001b[0;34m\u001b[0m\u001b[0;34m\u001b[0m\u001b[0m\n",
      "\u001b[0;32m<ipython-input-133-0068adf67e35>\u001b[0m in \u001b[0;36mstep\u001b[0;34m(self)\u001b[0m\n\u001b[1;32m     23\u001b[0m \u001b[0;34m\u001b[0m\u001b[0m\n\u001b[1;32m     24\u001b[0m     \u001b[0;32mdef\u001b[0m \u001b[0mstep\u001b[0m\u001b[0;34m(\u001b[0m\u001b[0mself\u001b[0m\u001b[0;34m)\u001b[0m\u001b[0;34m:\u001b[0m\u001b[0;34m\u001b[0m\u001b[0;34m\u001b[0m\u001b[0m\n\u001b[0;32m---> 25\u001b[0;31m         \u001b[0mself\u001b[0m\u001b[0;34m.\u001b[0m\u001b[0mmove\u001b[0m\u001b[0;34m(\u001b[0m\u001b[0;34m)\u001b[0m\u001b[0;34m\u001b[0m\u001b[0;34m\u001b[0m\u001b[0m\n\u001b[0m\u001b[1;32m     26\u001b[0m         \u001b[0;31m#30 percent chance that defector will take from\u001b[0m\u001b[0;34m\u001b[0m\u001b[0;34m\u001b[0m\u001b[0;34m\u001b[0m\u001b[0m\n\u001b[1;32m     27\u001b[0m         \u001b[0;31m#community pool\u001b[0m\u001b[0;34m\u001b[0m\u001b[0;34m\u001b[0m\u001b[0;34m\u001b[0m\u001b[0m\n",
      "\u001b[0;32m<ipython-input-133-0068adf67e35>\u001b[0m in \u001b[0;36mmove\u001b[0;34m(self)\u001b[0m\n\u001b[1;32m     11\u001b[0m             \u001b[0mself\u001b[0m\u001b[0;34m.\u001b[0m\u001b[0mpos\u001b[0m\u001b[0;34m,\u001b[0m\u001b[0;34m\u001b[0m\u001b[0;34m\u001b[0m\u001b[0m\n\u001b[1;32m     12\u001b[0m             \u001b[0mmoore\u001b[0m\u001b[0;34m=\u001b[0m\u001b[0;32mTrue\u001b[0m\u001b[0;34m,\u001b[0m\u001b[0;34m\u001b[0m\u001b[0;34m\u001b[0m\u001b[0m\n\u001b[0;32m---> 13\u001b[0;31m             include_center=False)\n\u001b[0m\u001b[1;32m     14\u001b[0m         \u001b[0mnew_position\u001b[0m \u001b[0;34m=\u001b[0m \u001b[0mself\u001b[0m\u001b[0;34m.\u001b[0m\u001b[0mrandom\u001b[0m\u001b[0;34m.\u001b[0m\u001b[0mchoice\u001b[0m\u001b[0;34m(\u001b[0m\u001b[0mpossible_steps\u001b[0m\u001b[0;34m)\u001b[0m\u001b[0;34m\u001b[0m\u001b[0;34m\u001b[0m\u001b[0m\n\u001b[1;32m     15\u001b[0m         \u001b[0;32mif\u001b[0m \u001b[0;34m(\u001b[0m\u001b[0mself\u001b[0m\u001b[0;34m.\u001b[0m\u001b[0mmodel\u001b[0m\u001b[0;34m.\u001b[0m\u001b[0mgrid\u001b[0m\u001b[0;34m.\u001b[0m\u001b[0mis_cell_empty\u001b[0m\u001b[0;34m(\u001b[0m\u001b[0mnew_position\u001b[0m\u001b[0;34m)\u001b[0m\u001b[0;34m)\u001b[0m\u001b[0;34m:\u001b[0m\u001b[0;34m\u001b[0m\u001b[0;34m\u001b[0m\u001b[0m\n",
      "\u001b[0;32m~/opt/anaconda3/lib/python3.7/site-packages/mesa/space.py\u001b[0m in \u001b[0;36mget_neighborhood\u001b[0;34m(self, pos, moore, include_center, radius)\u001b[0m\n\u001b[1;32m    254\u001b[0m             \u001b[0mx\u001b[0m\u001b[0;34m,\u001b[0m \u001b[0my\u001b[0m \u001b[0;34m=\u001b[0m \u001b[0mpos\u001b[0m\u001b[0;34m\u001b[0m\u001b[0;34m\u001b[0m\u001b[0m\n\u001b[1;32m    255\u001b[0m             \u001b[0;32mfor\u001b[0m \u001b[0mdy\u001b[0m \u001b[0;32min\u001b[0m \u001b[0mrange\u001b[0m\u001b[0;34m(\u001b[0m\u001b[0;34m-\u001b[0m\u001b[0mradius\u001b[0m\u001b[0;34m,\u001b[0m \u001b[0mradius\u001b[0m \u001b[0;34m+\u001b[0m \u001b[0;36m1\u001b[0m\u001b[0;34m)\u001b[0m\u001b[0;34m:\u001b[0m\u001b[0;34m\u001b[0m\u001b[0;34m\u001b[0m\u001b[0m\n\u001b[0;32m--> 256\u001b[0;31m                 \u001b[0;32mfor\u001b[0m \u001b[0mdx\u001b[0m \u001b[0;32min\u001b[0m \u001b[0mrange\u001b[0m\u001b[0;34m(\u001b[0m\u001b[0;34m-\u001b[0m\u001b[0mradius\u001b[0m\u001b[0;34m,\u001b[0m \u001b[0mradius\u001b[0m \u001b[0;34m+\u001b[0m \u001b[0;36m1\u001b[0m\u001b[0;34m)\u001b[0m\u001b[0;34m:\u001b[0m\u001b[0;34m\u001b[0m\u001b[0;34m\u001b[0m\u001b[0m\n\u001b[0m\u001b[1;32m    257\u001b[0m                     \u001b[0;32mif\u001b[0m \u001b[0mdx\u001b[0m \u001b[0;34m==\u001b[0m \u001b[0;36m0\u001b[0m \u001b[0;32mand\u001b[0m \u001b[0mdy\u001b[0m \u001b[0;34m==\u001b[0m \u001b[0;36m0\u001b[0m \u001b[0;32mand\u001b[0m \u001b[0;32mnot\u001b[0m \u001b[0minclude_center\u001b[0m\u001b[0;34m:\u001b[0m\u001b[0;34m\u001b[0m\u001b[0;34m\u001b[0m\u001b[0m\n\u001b[1;32m    258\u001b[0m                         \u001b[0;32mcontinue\u001b[0m\u001b[0;34m\u001b[0m\u001b[0;34m\u001b[0m\u001b[0m\n",
      "\u001b[0;31mKeyboardInterrupt\u001b[0m: "
     ]
    }
   ],
   "source": [
    "pop_size = 100\n",
    "num_generations = 500\n",
    "\n",
    "#for each generation\n",
    "for generation in range(num_generations):\n",
    "    #create population of individuals\n",
    "    population = []\n",
    "    pop_fitness = []\n",
    "    #create random population w/ mutations\n",
    "    for i in range(pop_size):\n",
    "        ind = individual()\n",
    "        mut = mutation(ind, prob_mut = .4)\n",
    "        population.append(mut)\n",
    "    for i in range(len(population)):\n",
    "        fit = fitness(population[i])\n",
    "        pop_fitness.append(fit)\n",
    "    population = random.choices(population, k=pop_size, weights=pop_fitness)\n",
    "    mean_fitnesses = []\n",
    "    mean_fitnesses.append(mean(pop_fitness))"
   ]
  },
  {
   "cell_type": "markdown",
   "metadata": {},
   "source": [
    "Data analysis"
   ]
  },
  {
   "cell_type": "code",
   "execution_count": null,
   "metadata": {},
   "outputs": [],
   "source": [
    "plt.figure()\n",
    "plt.plot(mean_fitnesses)\n",
    "plt.xlabel(\"Generation\")\n",
    "plt.ylabel(\"Mean Population Fitness\")\n",
    "plt.show()\n"
   ]
  }
 ],
 "metadata": {
  "interpreter": {
   "hash": "d24d9ce1c3b4c64cd7e55555502481eca52e9eda0f66884f52b1133c187c26e6"
  },
  "kernelspec": {
   "display_name": "Python 3.7.11 ('base')",
   "language": "python",
   "name": "python3"
  },
  "language_info": {
   "codemirror_mode": {
    "name": "ipython",
    "version": 3
   },
   "file_extension": ".py",
   "mimetype": "text/x-python",
   "name": "python",
   "nbconvert_exporter": "python",
   "pygments_lexer": "ipython3",
   "version": "3.7.11"
  },
  "orig_nbformat": 4
 },
 "nbformat": 4,
 "nbformat_minor": 2
}
